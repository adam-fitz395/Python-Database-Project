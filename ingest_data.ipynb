{
 "cells": [
  {
   "cell_type": "code",
   "execution_count": 1,
   "metadata": {},
   "outputs": [],
   "source": [
    "import DBcm\n",
    "import os\n",
    "import swim_utils\n",
    "import datetime\n",
    "\n",
    "files = os.listdir(swim_utils.FOLDER)\n",
    "\n",
    "files.remove(\".DS_Store\")\n",
    "swimmer_data = []\n",
    "event_data = []\n",
    "time_data = []\n",
    "\n",
    "config = {\n",
    "    \"user\": \"swimuser\",\n",
    "    \"password\": \"swimuserpasswd\",\n",
    "    \"database\": \"swimmer_database\",\n",
    "    \"host\": \"localhost\",\n",
    "}\n",
    "\n",
    "with open(\"ingest_data.ipynb\") as f:\n",
    "    data = f.read()"
   ]
  },
  {
   "cell_type": "code",
   "execution_count": 2,
   "metadata": {},
   "outputs": [
    {
     "name": "stdout",
     "output_type": "stream",
     "text": [
      "Mike-15-100m-Fly.txt\n",
      "Aurora-13-50m-Free.txt\n",
      "Calvin-9-50m-Back.txt\n",
      "Blake-15-100m-Fly.txt\n",
      "Chris-17-100m-Breast.txt\n",
      "Darius-13-100m-Fly.txt\n",
      "Maria-9-50m-Free.txt\n",
      "Bill-18-200m-Back.txt\n",
      "Abi-10-50m-Breast.txt\n",
      "Calvin-9-50m-Fly.txt\n",
      "Ruth-13-200m-Back.txt\n",
      "Mike-15-200m-Free.txt\n",
      "Tasmin-15-100m-Breast.txt\n",
      "Owen-15-100m-Free.txt\n",
      "Chris-17-100m-Back.txt\n",
      "Alison-14-100m-Breast.txt\n",
      "Mike-15-100m-Back.txt\n",
      "Darius-13-100m-Back.txt\n",
      "Emma-13-100m-Breast.txt\n",
      "Tasmin-15-100m-Back.txt\n",
      "Lizzie-14-100m-Back.txt\n",
      "Bill-18-100m-Back.txt\n",
      "Tasmin-15-100m-Free.txt\n",
      "Elba-14-100m-Free.txt\n",
      "Lizzie-14-100m-Free.txt\n",
      "Ruth-13-200m-Free.txt\n",
      "Ali-12-100m-Back.txt\n",
      "Darius-13-200m-IM.txt\n",
      "Katie-9-50m-Back.txt\n",
      "Katie-9-100m-Breast.txt\n",
      "Hannah-13-100m-Back.txt\n",
      "Katie-9-50m-Free.txt\n",
      "Katie-9-100m-Back.txt\n",
      "Erika-15-100m-Breast.txt\n",
      "Mike-15-100m-Free.txt\n",
      "Hannah-13-100m-Free.txt\n",
      "Blake-15-100m-Back.txt\n",
      "Katie-9-50m-Fly.txt\n",
      "Abi-10-100m-Breast.txt\n",
      "Calvin-9-50m-Free.txt\n",
      "Erika-15-100m-Free.txt\n",
      "Erika-15-200m-Breast.txt\n",
      "Darius-13-100m-Breast.txt\n",
      "Katie-9-100m-Free.txt\n",
      "Carl-15-100m-Back.txt\n",
      "Dave-17-100m-Free.txt\n",
      "Ruth-13-100m-Free.txt\n",
      "Alison-14-100m-Free.txt\n",
      "Abi-10-100m-Back.txt\n",
      "Dave-17-200m-Back.txt\n",
      "Abi-10-50m-Free.txt\n",
      "Emma-13-100m-Free.txt\n",
      "Ali-12-100m-Free.txt\n",
      "Katie-9-50m-Breast.txt\n",
      "Abi-10-50m-Back.txt\n",
      "Ruth-13-400m-Free.txt\n",
      "Blake-15-100m-Free.txt\n",
      "Ruth-13-100m-Back.txt\n",
      "Tasmin-15-200m-Breast.txt\n",
      "Mike-15-200m-IM.txt\n"
     ]
    }
   ],
   "source": [
    "#Populate swimmers_data\n",
    "for file in files:\n",
    "    print(file)\n",
    "    (\n",
    "        name,\n",
    "        age,\n",
    "        distance,\n",
    "        stroke,\n",
    "        the_times,\n",
    "        converts,\n",
    "        the_average,\n",
    "    ) = swim_utils.get_swimmers_data(file)\n",
    "    if (name, age) in swimmer_data:\n",
    "        continue\n",
    "    else:\n",
    "        swimmer_data.append((name,age))\n",
    "        \n",
    "swim_insert_SQL = \"\"\"    \n",
    "    INSERT IGNORE INTO swimmers\n",
    "    (name, age)\n",
    "    VALUES\n",
    "    (%s, %s)\n",
    "    \"\"\"\n",
    "        \n",
    "with DBcm.UseDatabase(config) as db:\n",
    "    db.executemany(swim_insert_SQL, swimmer_data)"
   ]
  },
  {
   "cell_type": "code",
   "execution_count": 3,
   "metadata": {},
   "outputs": [],
   "source": [
    "# Populate event_data        \n",
    "for file in files:\n",
    "    (\n",
    "        name,\n",
    "        age,\n",
    "        distance,\n",
    "        stroke,\n",
    "        the_times,\n",
    "        converts,\n",
    "        the_average,\n",
    "    ) = swim_utils.get_swimmers_data(file)\n",
    "    if (distance, stroke) in event_data:\n",
    "        continue\n",
    "    else:\n",
    "        event_data.append((distance,stroke))\n",
    "        \n",
    "event_insert_SQL = \"\"\"\n",
    "    INSERT IGNORE INTO events \n",
    "    (distance, event)\n",
    "    VALUES\n",
    "    (%s, %s)\n",
    "    \"\"\"\n",
    "        \n",
    "with DBcm.UseDatabase(config) as db:\n",
    "    db.executemany(event_insert_SQL, event_data)"
   ]
  },
  {
   "cell_type": "code",
   "execution_count": 4,
   "metadata": {},
   "outputs": [
    {
     "name": "stdout",
     "output_type": "stream",
     "text": [
      "[(1,), (2,), (3,), (4,), (5,), (6,), (7,), (8,), (9,), (3,), (10,), (1,), (11,), (12,), (5,), (13,), (1,), (6,), (14,), (11,), (15,), (8,), (11,), (16,), (15,), (10,), (17,), (6,), (18,), (18,), (19,), (18,), (18,), (20,), (1,), (19,), (4,), (18,), (9,), (3,), (20,), (20,), (6,), (18,), (21,), (22,), (10,), (13,), (9,), (22,), (9,), (14,), (17,), (18,), (9,), (10,), (4,), (10,), (11,), (1,)]\n"
     ]
    }
   ],
   "source": [
    "swim_select_SQL = \"\"\"\n",
    "    SELECT swimmer_id \n",
    "    FROM swimmers \n",
    "    WHERE name = %s AND age = %s;\"\"\"\n",
    "\n",
    "swimmer_ids = []\n",
    "\n",
    "for swimmer in files:\n",
    "    name, age = swim_utils.get_swimmers_data(swimmer)[:2]\n",
    "\n",
    "    with DBcm.UseDatabase(config) as db:\n",
    "        db.execute(swim_select_SQL, (name, age))\n",
    "        swimmer_ids.append(db.fetchone())\n",
    "\n",
    "print(swimmer_ids)"
   ]
  },
  {
   "cell_type": "code",
   "execution_count": 5,
   "metadata": {},
   "outputs": [
    {
     "name": "stdout",
     "output_type": "stream",
     "text": [
      "[(1,), (2,), (3,), (1,), (4,), (1,), (2,), (5,), (6,), (7,), (5,), (8,), (4,), (9,), (10,), (4,), (10,), (10,), (4,), (10,), (10,), (10,), (9,), (9,), (9,), (8,), (10,), (11,), (3,), (4,), (10,), (2,), (10,), (4,), (9,), (9,), (10,), (7,), (4,), (2,), (9,), (12,), (4,), (9,), (10,), (9,), (9,), (9,), (10,), (5,), (2,), (9,), (9,), (6,), (3,), (13,), (9,), (10,), (12,), (11,)]\n"
     ]
    }
   ],
   "source": [
    "event_select_SQL = \"\"\"\n",
    "    SELECT event_id \n",
    "    FROM events \n",
    "    WHERE distance = %s AND event = %s;\"\"\"\n",
    "    \n",
    "event_ids = []\n",
    "for event in files:\n",
    "    \n",
    "    distance, stroke = swim_utils.get_swimmers_data(event)[2:4]\n",
    "    \n",
    "    with DBcm.UseDatabase(config) as db:\n",
    "        db.execute(event_select_SQL, (distance, stroke))\n",
    "        event_ids.append(db.fetchone())\n",
    "            \n",
    "print(event_ids)"
   ]
  },
  {
   "cell_type": "code",
   "execution_count": 6,
   "metadata": {},
   "outputs": [
    {
     "name": "stdout",
     "output_type": "stream",
     "text": [
      "[('Mike', '15'), ('Aurora', '13'), ('Calvin', '9'), ('Blake', '15'), ('Chris', '17'), ('Darius', '13'), ('Maria', '9'), ('Bill', '18'), ('Abi', '10'), ('Ruth', '13'), ('Tasmin', '15'), ('Owen', '15'), ('Alison', '14'), ('Emma', '13'), ('Lizzie', '14'), ('Elba', '14'), ('Ali', '12'), ('Katie', '9'), ('Hannah', '13'), ('Erika', '15'), ('Carl', '15'), ('Dave', '17')]\n",
      "[('100m', 'Fly'), ('50m', 'Free'), ('50m', 'Back'), ('100m', 'Breast'), ('200m', 'Back'), ('50m', 'Breast'), ('50m', 'Fly'), ('200m', 'Free'), ('100m', 'Free'), ('100m', 'Back'), ('200m', 'IM'), ('200m', 'Breast'), ('400m', 'Free')]\n"
     ]
    }
   ],
   "source": [
    "ts = datetime.datetime.now()\n",
    "\n",
    "current = 0\n",
    "for file in files:\n",
    "    (\n",
    "        name,\n",
    "        age,\n",
    "        distance,\n",
    "        stroke,\n",
    "        the_times,\n",
    "        converts,\n",
    "        the_average,\n",
    "    ) = swim_utils.get_swimmers_data(file)\n",
    "\n",
    "    with DBcm.UseDatabase(config) as db:\n",
    "        for time in the_times:\n",
    "            insert_times_SQL = f\"\"\"\n",
    "            INSERT INTO times (swimmer_id, event_id, times, ts) \n",
    "            VALUES ({swimmer_ids[current][0]}, {event_ids[current][0]}, \"{time}\", \"{ts}\");\n",
    "            \"\"\"\n",
    "            db.execute(insert_times_SQL)\n",
    "    current += 1\n",
    "        \n",
    "print(swimmer_data)\n",
    "print(event_data)"
   ]
  }
 ],
 "metadata": {
  "kernelspec": {
   "display_name": "Python 3",
   "language": "python",
   "name": "python3"
  },
  "language_info": {
   "codemirror_mode": {
    "name": "ipython",
    "version": 3
   },
   "file_extension": ".py",
   "mimetype": "text/x-python",
   "name": "python",
   "nbconvert_exporter": "python",
   "pygments_lexer": "ipython3",
   "version": "3.10.12"
  }
 },
 "nbformat": 4,
 "nbformat_minor": 2
}
