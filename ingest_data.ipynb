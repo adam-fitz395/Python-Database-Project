{
 "cells": [
  {
   "cell_type": "code",
   "execution_count": 7,
   "metadata": {},
   "outputs": [],
   "source": [
    "import DBcm\n",
    "import os\n",
    "import swim_utils\n",
    "import datetime\n",
    "\n",
    "files = os.listdir(swim_utils.FOLDER)\n",
    "\n",
    "files.remove(\".DS_Store\")\n",
    "swimmer_data = []\n",
    "event_data = []\n",
    "time_data = []\n",
    "\n",
    "config = {\n",
    "    \"user\": \"swimuser\",\n",
    "    \"password\": \"swimuserpasswd\",\n",
    "    \"database\": \"swimmer_database\",\n",
    "    \"host\": \"localhost\",\n",
    "}\n",
    "\n",
    "with open(\"ingest_data.ipynb\") as f:\n",
    "    data = f.read()"
   ]
  },
  {
   "cell_type": "code",
   "execution_count": 8,
   "metadata": {},
   "outputs": [
    {
     "name": "stdout",
     "output_type": "stream",
     "text": [
      "Mike-15-100m-Fly.txt\n",
      "Aurora-13-50m-Free.txt\n",
      "Calvin-9-50m-Back.txt\n",
      "Blake-15-100m-Fly.txt\n",
      "Chris-17-100m-Breast.txt\n",
      "Darius-13-100m-Fly.txt\n",
      "Maria-9-50m-Free.txt\n",
      "Bill-18-200m-Back.txt\n",
      "Abi-10-50m-Breast.txt\n",
      "Calvin-9-50m-Fly.txt\n",
      "Ruth-13-200m-Back.txt\n",
      "Mike-15-200m-Free.txt\n",
      "Tasmin-15-100m-Breast.txt\n",
      "Owen-15-100m-Free.txt\n",
      "Chris-17-100m-Back.txt\n",
      "Alison-14-100m-Breast.txt\n",
      "Mike-15-100m-Back.txt\n",
      "Darius-13-100m-Back.txt\n",
      "Emma-13-100m-Breast.txt\n",
      "Tasmin-15-100m-Back.txt\n",
      "Lizzie-14-100m-Back.txt\n",
      "Bill-18-100m-Back.txt\n",
      "Tasmin-15-100m-Free.txt\n",
      "Elba-14-100m-Free.txt\n",
      "Lizzie-14-100m-Free.txt\n",
      "Ruth-13-200m-Free.txt\n",
      "Ali-12-100m-Back.txt\n",
      "Darius-13-200m-IM.txt\n",
      "Katie-9-50m-Back.txt\n",
      "Katie-9-100m-Breast.txt\n",
      "Hannah-13-100m-Back.txt\n",
      "Katie-9-50m-Free.txt\n",
      "Katie-9-100m-Back.txt\n",
      "Erika-15-100m-Breast.txt\n",
      "Mike-15-100m-Free.txt\n",
      "Hannah-13-100m-Free.txt\n",
      "Blake-15-100m-Back.txt\n",
      "Katie-9-50m-Fly.txt\n",
      "Abi-10-100m-Breast.txt\n",
      "Calvin-9-50m-Free.txt\n",
      "Erika-15-100m-Free.txt\n",
      "Erika-15-200m-Breast.txt\n",
      "Darius-13-100m-Breast.txt\n",
      "Katie-9-100m-Free.txt\n",
      "Carl-15-100m-Back.txt\n",
      "Dave-17-100m-Free.txt\n",
      "Ruth-13-100m-Free.txt\n",
      "Alison-14-100m-Free.txt\n",
      "Abi-10-100m-Back.txt\n",
      "Dave-17-200m-Back.txt\n",
      "Abi-10-50m-Free.txt\n",
      "Emma-13-100m-Free.txt\n",
      "Ali-12-100m-Free.txt\n",
      "Katie-9-50m-Breast.txt\n",
      "Abi-10-50m-Back.txt\n",
      "Ruth-13-400m-Free.txt\n",
      "Blake-15-100m-Free.txt\n",
      "Ruth-13-100m-Back.txt\n",
      "Tasmin-15-200m-Breast.txt\n",
      "Mike-15-200m-IM.txt\n"
     ]
    }
   ],
   "source": [
    "#Populate swimmers_data\n",
    "for file in files:\n",
    "    print(file)\n",
    "    (\n",
    "        name,\n",
    "        age,\n",
    "        distance,\n",
    "        stroke,\n",
    "        the_times,\n",
    "        converts,\n",
    "        the_average,\n",
    "    ) = swim_utils.get_swimmers_data(file)\n",
    "    if (name, age) in swimmer_data:\n",
    "        continue\n",
    "    else:\n",
    "        swimmer_data.append((name,age))\n",
    "        \n",
    "swim_insert_SQL = \"\"\"    \n",
    "    INSERT IGNORE INTO swimmers\n",
    "    (name, age)\n",
    "    VALUES\n",
    "    (%s, %s)\n",
    "    \"\"\"\n",
    "        \n",
    "with DBcm.UseDatabase(config) as db:\n",
    "    db.executemany(swim_insert_SQL, swimmer_data)"
   ]
  },
  {
   "cell_type": "code",
   "execution_count": 9,
   "metadata": {},
   "outputs": [],
   "source": [
    "# Populate event_data        \n",
    "for file in files:\n",
    "    (\n",
    "        name,\n",
    "        age,\n",
    "        distance,\n",
    "        stroke,\n",
    "        the_times,\n",
    "        converts,\n",
    "        the_average,\n",
    "    ) = swim_utils.get_swimmers_data(file)\n",
    "    if (distance, stroke) in event_data:\n",
    "        continue\n",
    "    else:\n",
    "        event_data.append((distance,stroke))\n",
    "        \n",
    "event_insert_SQL = \"\"\"\n",
    "    INSERT IGNORE INTO events \n",
    "    (distance, event)\n",
    "    VALUES\n",
    "    (%s, %s)\n",
    "    \"\"\"\n",
    "        \n",
    "with DBcm.UseDatabase(config) as db:\n",
    "    db.executemany(event_insert_SQL, event_data)"
   ]
  },
  {
   "cell_type": "code",
   "execution_count": 10,
   "metadata": {},
   "outputs": [
    {
     "ename": "InternalError",
     "evalue": "Unread result found",
     "output_type": "error",
     "traceback": [
      "\u001b[0;31m---------------------------------------------------------------------------\u001b[0m",
      "\u001b[0;31mInternalError\u001b[0m                             Traceback (most recent call last)",
      "\u001b[1;32m/home/adamfitz395/Cloud/Web Dev/CA/03/ingest_data.ipynb Cell 4\u001b[0m line \u001b[0;36m1\n\u001b[1;32m      <a href='vscode-notebook-cell:/home/adamfitz395/Cloud/Web%20Dev/CA/03/ingest_data.ipynb#W3sZmlsZQ%3D%3D?line=7'>8</a>\u001b[0m \u001b[39mfor\u001b[39;00m swimmer \u001b[39min\u001b[39;00m files:\n\u001b[1;32m      <a href='vscode-notebook-cell:/home/adamfitz395/Cloud/Web%20Dev/CA/03/ingest_data.ipynb#W3sZmlsZQ%3D%3D?line=8'>9</a>\u001b[0m     name, age \u001b[39m=\u001b[39m swim_utils\u001b[39m.\u001b[39mget_swimmers_data(swimmer)[:\u001b[39m2\u001b[39m]\n\u001b[0;32m---> <a href='vscode-notebook-cell:/home/adamfitz395/Cloud/Web%20Dev/CA/03/ingest_data.ipynb#W3sZmlsZQ%3D%3D?line=10'>11</a>\u001b[0m     \u001b[39mwith\u001b[39;00m DBcm\u001b[39m.\u001b[39mUseDatabase(config) \u001b[39mas\u001b[39;00m db:\n\u001b[1;32m     <a href='vscode-notebook-cell:/home/adamfitz395/Cloud/Web%20Dev/CA/03/ingest_data.ipynb#W3sZmlsZQ%3D%3D?line=11'>12</a>\u001b[0m         db\u001b[39m.\u001b[39mexecute(swim_select_SQL, (name, age))\n\u001b[1;32m     <a href='vscode-notebook-cell:/home/adamfitz395/Cloud/Web%20Dev/CA/03/ingest_data.ipynb#W3sZmlsZQ%3D%3D?line=12'>13</a>\u001b[0m         swimmer_ids\u001b[39m.\u001b[39mappend(db\u001b[39m.\u001b[39mfetchone())\n",
      "File \u001b[0;32m~/.local/lib/python3.10/site-packages/DBcm.py:112\u001b[0m, in \u001b[0;36mUseDatabase.__exit__\u001b[0;34m(self, exc_type, exc_value, exc_traceback)\u001b[0m\n\u001b[1;32m    106\u001b[0m \u001b[39mdef\u001b[39;00m \u001b[39m__exit__\u001b[39m(\u001b[39mself\u001b[39m, exc_type, exc_value, exc_traceback):\n\u001b[1;32m    107\u001b[0m \u001b[39m    \u001b[39m\u001b[39m\"\"\"Destroy the cursor as well as the connection (after committing).\u001b[39;00m\n\u001b[1;32m    108\u001b[0m \n\u001b[1;32m    109\u001b[0m \u001b[39m    Raise ProgrammingError as an SQLError, and re-raise anything else\u001b[39;00m\n\u001b[1;32m    110\u001b[0m \u001b[39m    as required.\u001b[39;00m\n\u001b[1;32m    111\u001b[0m \u001b[39m    \"\"\"\u001b[39;00m\n\u001b[0;32m--> 112\u001b[0m     \u001b[39mself\u001b[39;49m\u001b[39m.\u001b[39;49mconn\u001b[39m.\u001b[39;49mcommit()\n\u001b[1;32m    113\u001b[0m     \u001b[39mself\u001b[39m\u001b[39m.\u001b[39mcursor\u001b[39m.\u001b[39mclose()\n\u001b[1;32m    114\u001b[0m     \u001b[39mself\u001b[39m\u001b[39m.\u001b[39mconn\u001b[39m.\u001b[39mclose()\n",
      "File \u001b[0;32m~/.local/lib/python3.10/site-packages/mysql/connector/connection_cext.py:516\u001b[0m, in \u001b[0;36mCMySQLConnection.commit\u001b[0;34m(self)\u001b[0m\n\u001b[1;32m    514\u001b[0m \u001b[39m\u001b[39m\u001b[39m\"\"\"Commit current transaction\"\"\"\u001b[39;00m\n\u001b[1;32m    515\u001b[0m \u001b[39mif\u001b[39;00m \u001b[39mself\u001b[39m\u001b[39m.\u001b[39m_cmysql:\n\u001b[0;32m--> 516\u001b[0m     \u001b[39mself\u001b[39;49m\u001b[39m.\u001b[39;49mhandle_unread_result()\n\u001b[1;32m    517\u001b[0m     \u001b[39mself\u001b[39m\u001b[39m.\u001b[39m_cmysql\u001b[39m.\u001b[39mcommit()\n",
      "File \u001b[0;32m~/.local/lib/python3.10/site-packages/mysql/connector/connection_cext.py:961\u001b[0m, in \u001b[0;36mCMySQLConnection.handle_unread_result\u001b[0;34m(self, prepared)\u001b[0m\n\u001b[1;32m    959\u001b[0m     \u001b[39mself\u001b[39m\u001b[39m.\u001b[39mconsume_results()\n\u001b[1;32m    960\u001b[0m \u001b[39melif\u001b[39;00m unread_result:\n\u001b[0;32m--> 961\u001b[0m     \u001b[39mraise\u001b[39;00m InternalError(\u001b[39m\"\u001b[39m\u001b[39mUnread result found\u001b[39m\u001b[39m\"\u001b[39m)\n",
      "\u001b[0;31mInternalError\u001b[0m: Unread result found"
     ]
    }
   ],
   "source": [
    "swim_select_SQL = \"\"\"\n",
    "    SELECT swimmer_id \n",
    "    FROM swimmers \n",
    "    WHERE name = %s AND age = %s;\"\"\"\n",
    "\n",
    "swimmer_ids = []\n",
    "\n",
    "for swimmer in files:\n",
    "    name, age = swim_utils.get_swimmers_data(swimmer)[:2]\n",
    "\n",
    "    with DBcm.UseDatabase(config) as db:\n",
    "        db.execute(swim_select_SQL, (name, age))\n",
    "        swimmer_ids.append(db.fetchone())\n",
    "\n",
    "print(swimmer_ids)"
   ]
  },
  {
   "cell_type": "code",
   "execution_count": null,
   "metadata": {},
   "outputs": [
    {
     "name": "stdout",
     "output_type": "stream",
     "text": [
      "[(1,), (2,), (3,), (1,), (4,), (1,), (2,), (5,), (6,), (7,), (5,), (8,), (4,), (9,), (10,), (4,), (10,), (10,), (4,), (10,), (10,), (10,), (9,), (9,), (9,), (8,), (10,), (11,), (3,), (4,), (10,), (2,), (10,), (4,), (9,), (9,), (10,), (7,), (4,), (2,), (9,), (12,), (4,), (9,), (10,), (9,), (9,), (9,), (10,), (5,), (2,), (9,), (9,), (6,), (3,), (13,), (9,), (10,), (12,), (11,)]\n"
     ]
    }
   ],
   "source": [
    "event_select_SQL = \"\"\"\n",
    "    SELECT event_id \n",
    "    FROM events \n",
    "    WHERE distance = %s AND event = %s;\"\"\"\n",
    "    \n",
    "event_ids = []\n",
    "for event in files:\n",
    "    \n",
    "    distance, stroke = swim_utils.get_swimmers_data(event)[2:4]\n",
    "    \n",
    "    with DBcm.UseDatabase(config) as db:\n",
    "        db.execute(event_select_SQL, (distance, stroke))\n",
    "        event_ids.append(db.fetchone())\n",
    "            \n",
    "print(event_ids)"
   ]
  },
  {
   "cell_type": "code",
   "execution_count": null,
   "metadata": {},
   "outputs": [
    {
     "name": "stdout",
     "output_type": "stream",
     "text": [
      "[('Mike', '15'), ('Aurora', '13'), ('Calvin', '9'), ('Blake', '15'), ('Chris', '17'), ('Darius', '13'), ('Maria', '9'), ('Bill', '18'), ('Abi', '10'), ('Ruth', '13'), ('Tasmin', '15'), ('Owen', '15'), ('Alison', '14'), ('Emma', '13'), ('Lizzie', '14'), ('Elba', '14'), ('Ali', '12'), ('Katie', '9'), ('Hannah', '13'), ('Erika', '15'), ('Carl', '15'), ('Dave', '17')]\n",
      "[('100m', 'Fly'), ('50m', 'Free'), ('50m', 'Back'), ('100m', 'Breast'), ('200m', 'Back'), ('50m', 'Breast'), ('50m', 'Fly'), ('200m', 'Free'), ('100m', 'Free'), ('100m', 'Back'), ('200m', 'IM'), ('200m', 'Breast'), ('400m', 'Free')]\n"
     ]
    }
   ],
   "source": [
    "ts = datetime.datetime.now()\n",
    "\n",
    "current = 0\n",
    "for file in files:\n",
    "    (\n",
    "        name,\n",
    "        age,\n",
    "        distance,\n",
    "        stroke,\n",
    "        the_times,\n",
    "        converts,\n",
    "        the_average,\n",
    "    ) = swim_utils.get_swimmers_data(file)\n",
    "\n",
    "    with DBcm.UseDatabase(config) as db:\n",
    "        for time in the_times:\n",
    "            insert_times_SQL = f\"\"\"\n",
    "            INSERT INTO times (swimmer_id, event_id, times, ts) \n",
    "            VALUES ({swimmer_ids[current][0]}, {event_ids[current][0]}, \"{time}\", \"{ts}\");\n",
    "            \"\"\"\n",
    "            db.execute(insert_times_SQL)\n",
    "    current += 1\n",
    "        \n",
    "print(swimmer_data)\n",
    "print(event_data)"
   ]
  }
 ],
 "metadata": {
  "kernelspec": {
   "display_name": "Python 3",
   "language": "python",
   "name": "python3"
  },
  "language_info": {
   "codemirror_mode": {
    "name": "ipython",
    "version": 3
   },
   "file_extension": ".py",
   "mimetype": "text/x-python",
   "name": "python",
   "nbconvert_exporter": "python",
   "pygments_lexer": "ipython3",
   "version": "3.10.12"
  }
 },
 "nbformat": 4,
 "nbformat_minor": 2
}
