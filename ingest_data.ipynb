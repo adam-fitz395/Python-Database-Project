{
 "cells": [
  {
   "cell_type": "code",
   "execution_count": 1,
   "metadata": {},
   "outputs": [
    {
     "name": "stdout",
     "output_type": "stream",
     "text": [
      "Enter the absolute path of the folder to ingest: \n"
     ]
    }
   ],
   "source": [
    "# File needs to be run twice, once for swimdata and second for swimdata2\n",
    "\n",
    "import DBcm\n",
    "import os\n",
    "import swim_utils\n",
    "import datetime\n",
    "\n",
    "print(\"Enter the absolute path of the folder to ingest: \")\n",
    "swim_utils.FOLDER = input() # input the absolute path of the folder to add and add \"/\" to the end. e.g /home/adamfitz395/Cloud/WebDev/CA/03/uploaded/swimdata/\n",
    "\n",
    "files = os.listdir(swim_utils.FOLDER)\n",
    "\n",
    "files.remove(\".DS_Store\")\n",
    "swimmer_data = []\n",
    "event_data = []\n",
    "time_data = []\n",
    "\n",
    "config = {\n",
    "    \"user\": \"swimuser\",\n",
    "    \"password\": \"swimuserpasswd\",\n",
    "    \"database\": \"swimmer_database\",\n",
    "    \"host\": \"localhost\",\n",
    "}\n",
    "\n",
    "with open(\"ingest_data.ipynb\") as f:\n",
    "    data = f.read()"
   ]
  },
  {
   "cell_type": "code",
   "execution_count": 2,
   "metadata": {},
   "outputs": [
    {
     "name": "stdout",
     "output_type": "stream",
     "text": [
      "Blake-15-100m-Fly.txt\n",
      "Darius-13-100m-Fly.txt\n",
      "Maria-9-50m-Free.txt\n",
      "Owen-15-100m-Free.txt\n",
      "Darius-13-100m-Back.txt\n",
      "Darius-13-200m-IM.txt\n",
      "Katie-9-50m-Back.txt\n",
      "Katie-9-100m-Breast.txt\n",
      "Katie-9-50m-Free.txt\n",
      "Katie-9-100m-IM.txt\n",
      "Katie-9-100m-Back.txt\n",
      "Blake-15-100m-Back.txt\n",
      "Katie-9-50m-Fly.txt\n",
      "Darius-8-50m-Breast.txt\n",
      "Abi-10-100m-Breast.txt\n",
      "Darius-13-100m-Breast.txt\n",
      "Katie-9-100m-Free.txt\n",
      "Dave-17-100m-Free.txt\n",
      "Darius-8-50m-Free.txt\n",
      "Abi-10-100m-Back.txt\n",
      "Dave-17-200m-Back.txt\n",
      "Darius-8-50m-Back.txt\n",
      "Katie-9-50m-Breast.txt\n",
      "Blake-15-100m-Free.txt\n"
     ]
    }
   ],
   "source": [
    "#Populate swimmers_data\n",
    "for file in files:\n",
    "    print(file)\n",
    "    (\n",
    "        name,\n",
    "        age,\n",
    "        distance,\n",
    "        stroke,\n",
    "        the_times,\n",
    "        converts,\n",
    "        the_average,\n",
    "    ) = swim_utils.get_swimmers_data(file)\n",
    "    if (name, age) in swimmer_data:\n",
    "        continue\n",
    "    else:\n",
    "        swimmer_data.append((name,age))\n",
    "        \n",
    "# Modify the SQL query\n",
    "swim_insert_SQL = \"\"\"    \n",
    "    INSERT INTO swimmers\n",
    "    (name, age)\n",
    "    SELECT %s, %s\n",
    "    WHERE NOT EXISTS (\n",
    "        SELECT 1\n",
    "        FROM swimmers\n",
    "        WHERE name = %s AND age = %s\n",
    "    );\n",
    "\"\"\"\n",
    "\n",
    "# Modify the execute call\n",
    "with DBcm.UseDatabase(config) as db:\n",
    "    for name, age in swimmer_data:\n",
    "        db.execute(swim_insert_SQL, (name, age, name, age))"
   ]
  },
  {
   "cell_type": "code",
   "execution_count": 3,
   "metadata": {},
   "outputs": [],
   "source": [
    "# Populate event_data        \n",
    "for file in files:\n",
    "    (\n",
    "        name,\n",
    "        age,\n",
    "        distance,\n",
    "        stroke,\n",
    "        the_times,\n",
    "        converts,\n",
    "        the_average,\n",
    "    ) = swim_utils.get_swimmers_data(file)\n",
    "    if (distance, stroke) in event_data:\n",
    "        continue\n",
    "    else:\n",
    "        event_data.append((distance,stroke))\n",
    "        \n",
    "event_insert_SQL = \"\"\"\n",
    "    INSERT INTO events \n",
    "    (distance, event)\n",
    "    SELECT %s, %s\n",
    "    WHERE NOT EXISTS (\n",
    "        SELECT 1\n",
    "        FROM events\n",
    "        WHERE distance = %s AND event = %s\n",
    "    );\n",
    "\"\"\"\n",
    "\n",
    "# Modify the execute call for events\n",
    "with DBcm.UseDatabase(config) as db:\n",
    "    for distance, stroke in event_data:\n",
    "        db.execute(event_insert_SQL, (distance, stroke, distance, stroke))"
   ]
  },
  {
   "cell_type": "code",
   "execution_count": 4,
   "metadata": {},
   "outputs": [
    {
     "name": "stdout",
     "output_type": "stream",
     "text": [
      "[(4,), (6,), (7,), (12,), (6,), (6,), (18,), (18,), (18,), (18,), (18,), (4,), (18,), (23,), (9,), (6,), (18,), (22,), (23,), (9,), (22,), (23,), (18,), (4,)]\n"
     ]
    }
   ],
   "source": [
    "swim_select_SQL = \"\"\"\n",
    "    SELECT swimmer_id \n",
    "    FROM swimmers \n",
    "    WHERE name = %s AND age = %s;\"\"\"\n",
    "\n",
    "swimmer_ids = []\n",
    "\n",
    "for swimmer in files:\n",
    "    name, age = swim_utils.get_swimmers_data(swimmer)[:2]\n",
    "\n",
    "    with DBcm.UseDatabase(config) as db:\n",
    "        db.execute(swim_select_SQL, (name, age))\n",
    "        swimmer_ids.append(db.fetchone())\n",
    "\n",
    "print(swimmer_ids)"
   ]
  },
  {
   "cell_type": "code",
   "execution_count": 5,
   "metadata": {},
   "outputs": [
    {
     "name": "stdout",
     "output_type": "stream",
     "text": [
      "[(1,), (1,), (2,), (9,), (10,), (11,), (3,), (4,), (2,), (14,), (10,), (10,), (7,), (6,), (4,), (4,), (9,), (9,), (2,), (10,), (5,), (3,), (6,), (9,)]\n"
     ]
    }
   ],
   "source": [
    "event_select_SQL = \"\"\"\n",
    "    SELECT event_id \n",
    "    FROM events \n",
    "    WHERE distance = %s AND event = %s;\"\"\"\n",
    "    \n",
    "event_ids = []\n",
    "for event in files:\n",
    "    \n",
    "    distance, stroke = swim_utils.get_swimmers_data(event)[2:4]\n",
    "    \n",
    "    with DBcm.UseDatabase(config) as db:\n",
    "        db.execute(event_select_SQL, (distance, stroke))\n",
    "        event_ids.append(db.fetchone())\n",
    "            \n",
    "print(event_ids)"
   ]
  },
  {
   "cell_type": "code",
   "execution_count": 6,
   "metadata": {},
   "outputs": [
    {
     "name": "stdout",
     "output_type": "stream",
     "text": [
      "2023-12-11 13:03:22.694583\n",
      "[('Blake', '15'), ('Darius', '13'), ('Maria', '9'), ('Owen', '15'), ('Katie', '9'), ('Darius', '8'), ('Abi', '10'), ('Dave', '17')]\n",
      "[('100m', 'Fly'), ('50m', 'Free'), ('100m', 'Free'), ('100m', 'Back'), ('200m', 'IM'), ('50m', 'Back'), ('100m', 'Breast'), ('100m', 'IM'), ('50m', 'Fly'), ('50m', 'Breast'), ('200m', 'Back')]\n"
     ]
    }
   ],
   "source": [
    "ts = datetime.datetime.now()\n",
    "\n",
    "print(ts)\n",
    "\n",
    "current = 0\n",
    "for file in files:\n",
    "    (\n",
    "        name,\n",
    "        age,\n",
    "        distance,\n",
    "        stroke,\n",
    "        the_times,\n",
    "        converts,\n",
    "        the_average,\n",
    "    ) = swim_utils.get_swimmers_data(file)\n",
    "\n",
    "    with DBcm.UseDatabase(config) as db:\n",
    "        for time in the_times:\n",
    "            insert_times_SQL = \"\"\"\n",
    "            INSERT INTO times (swimmer_id, event_id, times, ts) \n",
    "            VALUES (%s, %s, %s, %s);\n",
    "            \"\"\"\n",
    "            db.execute(insert_times_SQL, (swimmer_ids[current][0], event_ids[current][0], time, ts))\n",
    "    current += 1\n",
    "        \n",
    "print(swimmer_data)\n",
    "print(event_data)"
   ]
  }
 ],
 "metadata": {
  "kernelspec": {
   "display_name": "Python 3",
   "language": "python",
   "name": "python3"
  },
  "language_info": {
   "codemirror_mode": {
    "name": "ipython",
    "version": 3
   },
   "file_extension": ".py",
   "mimetype": "text/x-python",
   "name": "python",
   "nbconvert_exporter": "python",
   "pygments_lexer": "ipython3",
   "version": "3.10.12"
  }
 },
 "nbformat": 4,
 "nbformat_minor": 2
}
